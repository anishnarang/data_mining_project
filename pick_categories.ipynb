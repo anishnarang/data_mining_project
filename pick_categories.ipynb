{
 "cells": [
  {
   "cell_type": "code",
   "execution_count": 5,
   "metadata": {
    "collapsed": true
   },
   "outputs": [
    {
     "data": {
      "text/plain": [
       "{}"
      ]
     },
     "execution_count": 5,
     "metadata": {},
     "output_type": "execute_result"
    }
   ],
   "source": [
    "import pickle\n",
    "\n",
    "business_to_category = pickle.load(open(\"business_to_category.pkl\", \"rb\"))\n",
    "\n",
    "categories = {}\n",
    "\n",
    "with open(\"cusine_categories.txt\",\"r\") as file:\n",
    "    for line in file:\n",
    "        cat, count = line.strip().split(\",\")\n",
    "        categories[cat] = int(count)\n",
    "\n",
    "business_frequenc_of_category = {}\n",
    "\n",
    "for cat in categories:\n",
    "    for bus in business_to_category:\n",
    "        if cat in business_to_category:\n",
    "            business_frequenc_of_category[cat] += 1\n",
    "\n",
    "business_frequenc_of_category"
   ]
  },
  {
   "cell_type": "code",
   "execution_count": null,
   "metadata": {},
   "outputs": [],
   "source": []
  }
 ],
 "metadata": {
  "kernelspec": {
   "display_name": "Python 2",
   "language": "python",
   "name": "python2"
  },
  "language_info": {
   "codemirror_mode": {
    "name": "ipython",
    "version": 2
   },
   "file_extension": ".py",
   "mimetype": "text/x-python",
   "name": "python",
   "nbconvert_exporter": "python",
   "pygments_lexer": "ipython2",
   "version": "2.7.6"
  }
 },
 "nbformat": 4,
 "nbformat_minor": 0
}
