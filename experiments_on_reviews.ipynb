{
 "cells": [
  {
   "cell_type": "code",
   "execution_count": 60,
   "metadata": {},
   "outputs": [],
   "source": [
    "from pyspark.sql import SparkSession\n",
    "import pickle\n",
    "from pyspark.sql.types import Row\n",
    "from nltk.corpus import wordnet as wn\n",
    "from textblob import TextBlob\n",
    "\n",
    "spark = SparkSession \\\n",
    "    .builder \\\n",
    "    .appName(\"Python Spark SQL basic example\") \\\n",
    "    .config(\"spark.some.config.option\", \"some-value\") \\\n",
    "    .getOrCreate()\n",
    "\n",
    "df = spark.read.json(\"yelp_dataset/yelp_academic_dataset_review.json\")"
   ]
  },
  {
   "cell_type": "code",
   "execution_count": 61,
   "metadata": {
    "collapsed": false
   },
   "outputs": [
    {
     "name": "stdout",
     "output_type": "stream",
     "text": [
      "+--------------------+----+----------+-----+--------------------+-----+--------------------+------+--------------------+\n|         business_id|cool|      date|funny|           review_id|stars|                text|useful|             user_id|\n+--------------------+----+----------+-----+--------------------+-----+--------------------+------+--------------------+\n|iCQpiavjjPzJ5_3gP...|   0|2011-02-25|    0|x7mDIiDB3jEiPGPHO...|    2|The pizza was oka...|     0|msQe1u7Z_XuqjGoqh...|\n|pomGBqfbxcqPv14c3...|   0|2012-11-13|    0|dDl8zu1vWPdKGihJr...|    5|I love this place...|     0|msQe1u7Z_XuqjGoqh...|\n|jtQARsP6P-LbkyjbO...|   1|2014-10-23|    1|LZp4UX5zK3e-c5ZGS...|    1|Terrible. Dry cor...|     3|msQe1u7Z_XuqjGoqh...|\n|elqbBhBfElMNSrjFq...|   0|2011-02-25|    0|Er4NBWCmCD4nM8_p1...|    2|Back in 2005-2007...|     2|msQe1u7Z_XuqjGoqh...|\n|Ums3gaP2qM3W1XcA5...|   0|2014-09-05|    0|jsDu6QEJHbwP2Blom...|    5|Delicious healthy...|     0|msQe1u7Z_XuqjGoqh...|\n+--------------------+----+----------+-----+--------------------+-----+--------------------+------+--------------------+\nonly showing top 5 rows\n\n"
     ]
    }
   ],
   "source": [
    "# Load business_id that we want\n",
    "\n",
    "las_vegas_business_ids = pickle.load(open(\"util_data/las_vegas_business_ids.pkl\", \"rb\"))\n",
    "\n",
    "# Filter reviews that are made on las_vegas business\n",
    "\n",
    "df = df[df['business_id'].isin(las_vegas_business_ids)]\n",
    "df.show(5)\n",
    "\n"
   ]
  },
  {
   "cell_type": "code",
   "execution_count": 62,
   "metadata": {},
   "outputs": [],
   "source": [
    "# Get all wordnet food names\n",
    "\n",
    "food = wn.synset('food.n.02')\n",
    "food_list = list(set([w.lower() for s in food.closure(lambda s:s.hyponyms()) for w in s.lemma_names()]))"
   ]
  },
  {
   "cell_type": "code",
   "execution_count": 65,
   "metadata": {},
   "outputs": [
    {
     "name": "stdout",
     "output_type": "stream",
     "text": [
      "+--------------------+--------------------+--------------------+\n|         business_id|               stars|             user_id|\n+--------------------+--------------------+--------------------+\n|iCQpiavjjPzJ5_3gP...|                  []|msQe1u7Z_XuqjGoqh...|\n|pomGBqfbxcqPv14c3...|     [cheese -> 0.5]|msQe1u7Z_XuqjGoqh...|\n|jtQARsP6P-LbkyjbO...|[bread -> -0.0666...|msQe1u7Z_XuqjGoqh...|\n|elqbBhBfElMNSrjFq...|[plate -> 0.35, c...|msQe1u7Z_XuqjGoqh...|\n|Ums3gaP2qM3W1XcA5...|[Fish -> 1.0, ste...|msQe1u7Z_XuqjGoqh...|\n+--------------------+--------------------+--------------------+\nonly showing top 5 rows\n\n"
     ]
    }
   ],
   "source": [
    "# Extracting utilitiy matrix\n",
    "\n",
    "def extract_food_in_text(text):\n",
    "    ret_text = text.split()\n",
    "    \n",
    "    ret_text = [words for words in ret_text if words.lower() in food_list]\n",
    "    \n",
    "    return \" \".join(ret_text)\n",
    "\n",
    "def find_count(text):\n",
    "    d = {}\n",
    "    \n",
    "    for word in text.split():\n",
    "        if word in d:\n",
    "            d[word] += 1\n",
    "        else:\n",
    "            d[word] = 1\n",
    "    \n",
    "    return d\n",
    "\n",
    "def mix_dict(a,b):\n",
    "    for key in a.keys():\n",
    "        if key in b:\n",
    "            b[key] += a[key]\n",
    "        else:\n",
    "            b[key] = a[key]\n",
    "    \n",
    "    return b\n",
    "\n",
    "def map_to_category(food_counts, rating):\n",
    "    return food_counts\n",
    "\n",
    "def extract_food_and_sentiment(review):\n",
    "    global_dict = {}\n",
    "    \n",
    "    for sentence in review.split(\".\"):\n",
    "        sentiment = get_sentiment(sentence)\n",
    "        food_det = find_count(extract_food_in_text(sentence))\n",
    "        \n",
    "        for food in food_det:\n",
    "            if food in global_dict:\n",
    "                global_dict[food] += sentiment\n",
    "            else:\n",
    "                global_dict[food] = sentiment\n",
    "    \n",
    "    return global_dict\n",
    "        \n",
    "def get_sentiment(sentence):\n",
    "    sentence = TextBlob(sentence)\n",
    "    return sentence.sentiment.polarity\n",
    "\n",
    "food_review_df = spark.createDataFrame(df.rdd.map(lambda row: Row(row['business_id'], \n",
    "                            map_to_category(extract_food_and_sentiment(row['text']),\n",
    "                                            row['stars'])\n",
    "                                                                   ,row['user_id']))).toDF(\n",
    "    \"business_id\",\"stars\",\"user_id\")\n",
    "food_review_df.show(5)"
   ]
  },
  {
   "cell_type": "code",
   "execution_count": 31,
   "metadata": {},
   "outputs": [
    {
     "data": {
      "text/plain": [
       "[('salmon', 25140),\n ('pork', 56494),\n ('chicken', 183237),\n ('lox', 930),\n ('potato', 26958)]"
      ]
     },
     "execution_count": 31,
     "metadata": {},
     "output_type": "execute_result"
    }
   ],
   "source": [
    "# get frequent food from the extracted food words from review\n",
    "\n",
    "z = df.rdd.map(lambda row: find_count(extract_food_in_text(row['text'])))\n",
    "z = z.reduce(lambda x,y: mix_dict(x,y))\n",
    "\n",
    "# lower cased food items\n",
    "\n",
    "food = {}\n",
    "\n",
    "for food_val in z.keys():\n",
    "    if food_val.lower() in food:\n",
    "        food[food_val.lower()].append(food_val)\n",
    "    else:\n",
    "        food[food_val.lower()] = [food_val]\n",
    "\n",
    "for food_val in food.keys():\n",
    "    count = 0\n",
    "    \n",
    "    for similar_names in food[food_val]:\n",
    "        count += z[similar_names]\n",
    "    \n",
    "    food[food_val] = count\n",
    "\n",
    "food_names = set(food.keys())\n",
    "food_frequency = food\n",
    "list(food_frequency.items())[:5]"
   ]
  },
  {
   "cell_type": "code",
   "execution_count": 34,
   "metadata": {},
   "outputs": [],
   "source": [
    "# Store the frequency of different food used\n",
    "\n",
    "pickle.dump(food_frequency, open(\"util_data/food_frequency_in_review.pkl\", \"wb\"))\n",
    "\n",
    "\n",
    "with open(\"util_data/food_frequency.txt\",\"w+\") as food_file:\n",
    "    for food, count in sorted(list(food_frequency.items()), key=lambda x:x[1], reverse=True):\n",
    "        food_file.write(str(food)+\":\"+str(count)+\"\\n\")"
   ]
  },
  {
   "cell_type": "code",
   "execution_count": null,
   "metadata": {},
   "outputs": [],
   "source": [
    "\n"
   ]
  }
 ],
 "metadata": {
  "kernelspec": {
   "display_name": "Python 2",
   "language": "python",
   "name": "python2"
  },
  "language_info": {
   "codemirror_mode": {
    "name": "ipython",
    "version": 2
   },
   "file_extension": ".py",
   "mimetype": "text/x-python",
   "name": "python",
   "nbconvert_exporter": "python",
   "pygments_lexer": "ipython2",
   "version": "2.7.6"
  }
 },
 "nbformat": 4,
 "nbformat_minor": 0
}
