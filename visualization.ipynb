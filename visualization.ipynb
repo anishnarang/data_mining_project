{
 "cells": [
  {
   "cell_type": "code",
   "execution_count": 1,
   "metadata": {
    "collapsed": false
   },
   "outputs": [],
   "source": [
    "import pandas\n",
    "\n",
    "users_file = \"yelp_dataset/yelp_academic_dataset_user.json\"\n",
    "review_file = \"yelp_dataset/yelp_academic_dataset_review.json\"\n",
    "business_file = \"yelp_dataset/yelp_academic_dataset_business.json\"\n",
    "\n",
    "from pyspark.sql import SparkSession\n",
    "import pickle\n",
    "from pyspark.sql.types import Row\n",
    "from nltk.corpus import wordnet as wn\n",
    "from textblob import TextBlob\n",
    "\n",
    "spark = SparkSession \\\n",
    "    .builder \\\n",
    "    .appName(\"Python Spark SQL basic example\") \\\n",
    "    .config(\"spark.some.config.option\", \"some-value\") \\\n",
    "    .getOrCreate()\n",
    "\n",
    "#df = spark.read.json(business_file)\n"
   ]
  },
  {
   "cell_type": "code",
   "execution_count": 1,
   "metadata": {
    "collapsed": false
   },
   "outputs": [],
   "source": [
    "import pickle\n",
    "user_to_food = pickle.load(open(\"util_data/user_food_profile.pkl\",\"rb\"))\n",
    "users = set(user_to_food.keys())\n",
    "\n",
    "business_to_food_map = pickle.load(open(\"util_data/business_to_food_mapping.pkl\",\"rb\"))\n",
    "business = set(business_to_food_map.keys())\n",
    "\n",
    "business_id_to_name = pickle.load(open(\"util_data/business_id_to_name.pkl\",\"rb\"))\n",
    "user_id_to_name = pickle.load(open(\"util_data/user_id_to_name.pkl\",\"rb\"))\n"
   ]
  },
  {
   "cell_type": "code",
   "execution_count": 4,
   "metadata": {
    "collapsed": false
   },
   "outputs": [],
   "source": [
    "count = 0\n",
    "\n",
    "for bus in business_id_to_name:\n",
    "    if bus in business:\n",
    "        count += 1\n",
    "\n",
    "count\n",
    "len(business)"
   ]
  },
  {
   "cell_type": "code",
   "execution_count": null,
   "metadata": {
    "collapsed": false
   },
   "outputs": [],
   "source": [
    "\n",
    "business_id_to_name = dict([(id,name) for id, name in \n",
    "                            business_id_to_name.items() if id in business])\n",
    "stamp = 0\n",
    "h_set = set()\n",
    "\n",
    "for id, name in business_id_to_name.items():\n",
    "    if name in h_set:\n",
    "        # repead\n",
    "        business_id_to_name[id] = name + str(stamp)\n",
    "        stamp += 1\n",
    "    else:\n",
    "        h_set.add(name)\n",
    "\n",
    "business_name_to_id = dict([(name,id) for id,name in business_id_to_name.items()])\n",
    "\n",
    "\n",
    "user_id_to_name = dict([(id,name) for id, name in \n",
    "                            user_id_to_name.items() if id in users])\n",
    "\n",
    "stamp = 0\n",
    "h_set = set()\n",
    "\n",
    "for id, name in user_id_to_name.items():\n",
    "    if name in h_set:\n",
    "        # repead\n",
    "        user_id_to_name[id] = name + str(stamp)\n",
    "        stamp += 1\n",
    "    else:\n",
    "        h_set.add(name)\n",
    "\n",
    "user_name_to_id = dict([(name,id) for id,name in user_id_to_name.items()])\n"
   ]
  },
  {
   "cell_type": "code",
   "execution_count": null,
   "metadata": {
    "collapsed": false
   },
   "outputs": [],
   "source": [
    ""
   ]
  },
  {
   "cell_type": "code",
   "execution_count": 16,
   "metadata": {
    "collapsed": false
   },
   "outputs": [],
   "source": [
    "import pickle\n",
    "\n",
    "pickle.dump(business_id_to_name,open(\"business_id_to_name.pkl\",\"wb\"))\n",
    "pickle.dump(business_name_to_id,open(\"business_name_to_id.pkl\",\"wb\"))\n",
    "pickle.dump(user_id_to_name,open(\"user_id_to_name.pkl\",\"wb\"))\n",
    "pickle.dump(user_name_to_id,open(\"user_name_to_id.pkl\",\"wb\"))\n",
    "\n"
   ]
  },
  {
   "cell_type": "code",
   "execution_count": 12,
   "metadata": {
    "collapsed": false
   },
   "outputs": [],
   "source": [
    "x=  business_id_to_name.values()\n",
    "\n",
    "repeat = set()\n",
    "h = set()\n",
    "for t in x:\n",
    "    if t in h:\n",
    "        repeat.add(t)\n",
    "    else:\n",
    "        h.add(t)\n",
    "\n",
    "repeat\n"
   ]
  },
  {
   "cell_type": "code",
   "execution_count": null,
   "metadata": {
    "collapsed": false
   },
   "outputs": [],
   "source": [
    "df = spark.read.json(business_file)\n",
    "df.show(5)\n"
   ]
  },
  {
   "cell_type": "code",
   "execution_count": 3,
   "metadata": {
    "collapsed": false
   },
   "outputs": [],
   "source": [
    "\n",
    "len(df.collect())"
   ]
  },
  {
   "cell_type": "code",
   "execution_count": 4,
   "metadata": {
    "collapsed": false
   },
   "outputs": [],
   "source": [
    "x = df.rdd.map(lambda row:(row['business_id'], row['name'], row['city'])).map(lambda row: (row[0], row[1])).\\\n",
    "    collect()\n"
   ]
  },
  {
   "cell_type": "code",
   "execution_count": null,
   "metadata": {
    "collapsed": false
   },
   "outputs": [],
   "source": [
    "business_id_to_name = dict(x)\n",
    "import pickle\n",
    "pickle.dump(business_id_to_name, open(\"util_data/business_id_to_name.pkl\",\"wb\"))\n"
   ]
  },
  {
   "cell_type": "code",
   "execution_count": 6,
   "metadata": {
    "collapsed": false
   },
   "outputs": [],
   "source": [
    "\n",
    "len(business_id_to_name)"
   ]
  },
  {
   "cell_type": "code",
   "execution_count": 7,
   "metadata": {
    "collapsed": false
   },
   "outputs": [],
   "source": [
    "business_name_to_id = dict([(id,name) for name,id in business_id_to_name.items()])\n",
    "import pickle\n",
    "pickle.dump(business_name_to_id, open(\"util_data/business_name_to_id.pkl\",\"wb\"))\n"
   ]
  },
  {
   "cell_type": "code",
   "execution_count": null,
   "metadata": {
    "collapsed": false
   },
   "outputs": [
    {
     "name": "stdout",
     "output_type": "stream",
     "text": [
      "+-------------------+--------------------+--------------------+--------------------+---------+--------------------+-------+-------------+--------------+--------------------+--------------------+-----------+------------+-----+-----+\n|            address|          attributes|         business_id|          categories|     city|               hours|is_open|     latitude|     longitude|                name|        neighborhood|postal_code|review_count|stars|state|\n+-------------------+--------------------+--------------------+--------------------+---------+--------------------+-------+-------------+--------------+--------------------+--------------------+-----------+------------+-----+-----+\n|  1314 44 Avenue NE|[,,,,,,, False,, ...|Apn5Q_b6Nz61Tq4Xz...|Tours, Breweries,...|  Calgary|[11:0-21:0, 8:30-...|      1|51.0918130155|-114.031674872|Minhas Micro Brewery|                    |    T2E 6L6|          24|  4.0|   AB|\n|                   |[,, none,,,,, Fal...|AjEbIBw6ZFfln7ePH...|Chicken Wings, Bu...|Henderson|[17:0-23:0,, 17:0...|      0|   35.9607337|   -114.939821| CK'S BBQ & Catering|                    |      89002|           3|  4.5|   NV|\n|1335 rue Beaubien E|[,, beer_and_wine...|O8S5hYJ1SMc8fA4QB...|Breakfast & Brunc...| Montréal|[10:0-22:0, 10:0-...|      0|   45.5405031|   -73.5993003|       La Bastringue|Rosemont-La Petit...|    H2G 1K7|           5|  4.0|   QC|\n|    211 W Monroe St|                null|bFzdJJ3wp3PZssNEs...|Insurance, Financ...|  Phoenix|                null|      1|   33.4499993|  -112.0769793|     Geico Insurance|                    |      85003|           8|  1.5|   AZ|\n|2005 Alyth Place SE|[,,,,,,,,, True,,...|8USyCYqpScwiNEb58...|Home & Garden, Nu...|  Calgary|[8:0-17:0, 8:0-17...|      1|   51.0355914|  -114.0273656|       Action Engine|                    |    T2H 0N5|           4|  2.0|   AB|\n+-------------------+--------------------+--------------------+--------------------+---------+--------------------+-------+-------------+--------------+--------------------+--------------------+-----------+------------+-----+-----+\nonly showing top 5 rows\n\n"
     ]
    }
   ],
   "source": [
    "x = df.select(\"user_id\",\"name\").rdd.map(lambda row: (row['user_id'],row['name'])).collect()\n",
    "x\n"
   ]
  },
  {
   "cell_type": "code",
   "execution_count": null,
   "metadata": {
    "collapsed": false
   },
   "outputs": [
    {
     "name": "stdout",
     "output_type": "stream",
     "text": [
      "+-------------------+--------------------+--------------------+--------------------+---------+--------------------+-------+-------------+--------------+--------------------+--------------------+-----------+------------+-----+-----+\n|            address|          attributes|         business_id|          categories|     city|               hours|is_open|     latitude|     longitude|                name|        neighborhood|postal_code|review_count|stars|state|\n+-------------------+--------------------+--------------------+--------------------+---------+--------------------+-------+-------------+--------------+--------------------+--------------------+-----------+------------+-----+-----+\n|  1314 44 Avenue NE|[,,,,,,, False,, ...|Apn5Q_b6Nz61Tq4Xz...|Tours, Breweries,...|  Calgary|[11:0-21:0, 8:30-...|      1|51.0918130155|-114.031674872|Minhas Micro Brewery|                    |    T2E 6L6|          24|  4.0|   AB|\n|                   |[,, none,,,,, Fal...|AjEbIBw6ZFfln7ePH...|Chicken Wings, Bu...|Henderson|[17:0-23:0,, 17:0...|      0|   35.9607337|   -114.939821| CK'S BBQ & Catering|                    |      89002|           3|  4.5|   NV|\n|1335 rue Beaubien E|[,, beer_and_wine...|O8S5hYJ1SMc8fA4QB...|Breakfast & Brunc...| Montréal|[10:0-22:0, 10:0-...|      0|   45.5405031|   -73.5993003|       La Bastringue|Rosemont-La Petit...|    H2G 1K7|           5|  4.0|   QC|\n|    211 W Monroe St|                null|bFzdJJ3wp3PZssNEs...|Insurance, Financ...|  Phoenix|                null|      1|   33.4499993|  -112.0769793|     Geico Insurance|                    |      85003|           8|  1.5|   AZ|\n|2005 Alyth Place SE|[,,,,,,,,, True,,...|8USyCYqpScwiNEb58...|Home & Garden, Nu...|  Calgary|[8:0-17:0, 8:0-17...|      1|   51.0355914|  -114.0273656|       Action Engine|                    |    T2H 0N5|           4|  2.0|   AB|\n+-------------------+--------------------+--------------------+--------------------+---------+--------------------+-------+-------------+--------------+--------------------+--------------------+-----------+------------+-----+-----+\nonly showing top 5 rows\n\n"
     ]
    }
   ],
   "source": [
    "user_id_to_name = dict(x)\n",
    "user_id_to_name\n",
    "import pickle\n",
    "pickle.dump(user_id_to_name, open(\"util_data/user_id_to_name.pkl\",\"wb\"))\n"
   ]
  },
  {
   "cell_type": "code",
   "execution_count": 25,
   "metadata": {
    "collapsed": false
   },
   "outputs": [
    {
     "name": "stdout",
     "output_type": "stream",
     "text": [
      "+-------------------+--------------------+--------------------+--------------------+---------+--------------------+-------+-------------+--------------+--------------------+--------------------+-----------+------------+-----+-----+\n|            address|          attributes|         business_id|          categories|     city|               hours|is_open|     latitude|     longitude|                name|        neighborhood|postal_code|review_count|stars|state|\n+-------------------+--------------------+--------------------+--------------------+---------+--------------------+-------+-------------+--------------+--------------------+--------------------+-----------+------------+-----+-----+\n|  1314 44 Avenue NE|[,,,,,,, False,, ...|Apn5Q_b6Nz61Tq4Xz...|Tours, Breweries,...|  Calgary|[11:0-21:0, 8:30-...|      1|51.0918130155|-114.031674872|Minhas Micro Brewery|                    |    T2E 6L6|          24|  4.0|   AB|\n|                   |[,, none,,,,, Fal...|AjEbIBw6ZFfln7ePH...|Chicken Wings, Bu...|Henderson|[17:0-23:0,, 17:0...|      0|   35.9607337|   -114.939821| CK'S BBQ & Catering|                    |      89002|           3|  4.5|   NV|\n|1335 rue Beaubien E|[,, beer_and_wine...|O8S5hYJ1SMc8fA4QB...|Breakfast & Brunc...| Montréal|[10:0-22:0, 10:0-...|      0|   45.5405031|   -73.5993003|       La Bastringue|Rosemont-La Petit...|    H2G 1K7|           5|  4.0|   QC|\n|    211 W Monroe St|                null|bFzdJJ3wp3PZssNEs...|Insurance, Financ...|  Phoenix|                null|      1|   33.4499993|  -112.0769793|     Geico Insurance|                    |      85003|           8|  1.5|   AZ|\n|2005 Alyth Place SE|[,,,,,,,,, True,,...|8USyCYqpScwiNEb58...|Home & Garden, Nu...|  Calgary|[8:0-17:0, 8:0-17...|      1|   51.0355914|  -114.0273656|       Action Engine|                    |    T2H 0N5|           4|  2.0|   AB|\n+-------------------+--------------------+--------------------+--------------------+---------+--------------------+-------+-------------+--------------+--------------------+--------------------+-----------+------------+-----+-----+\nonly showing top 5 rows\n\n"
     ]
    }
   ],
   "source": [
    "user_name_to_id = dict([(name,id) for id,name in user_id_to_name.items()])\n",
    "import pickle\n",
    "pickle.dump(user_id_to_name, open(\"util_data/user_name_to_id.pkl\",\"wb\"))"
   ]
  },
  {
   "cell_type": "code",
   "execution_count": null,
   "metadata": {},
   "outputs": [],
   "source": [
    "\n",
    "def make_category_set(strs):\n",
    "    if strs == None:\n",
    "        return set([])\n",
    "    else:\n",
    "        strs = strs.split(\",\")\n",
    "        return set(strs)\n",
    "    \n",
    "business_to_category = df[df['city']==\"Las Vegas\"].rdd\\\n",
    "    .map(lambda row: (row['business_id'],make_category_set(row['categories'])))\n",
    "business_to_category = business_to_category.collect()"
   ]
  },
  {
   "cell_type": "code",
   "execution_count": 3,
   "metadata": {},
   "outputs": [
    {
     "ename": "NameError",
     "evalue": "name 'business_to_category' is not defined",
     "traceback": [
      "\u001b[0;31m---------------------------------------------------------------------------\u001b[0m",
      "\u001b[0;31mNameError\u001b[0m                                 Traceback (most recent call last)",
      "\u001b[0;32m<ipython-input-3-d6f91d2f3dff>\u001b[0m in \u001b[0;36m<module>\u001b[0;34m()\u001b[0m\n\u001b[1;32m      1\u001b[0m \u001b[0;34m\u001b[0m\u001b[0m\n\u001b[0;32m----> 2\u001b[0;31m \u001b[0mbusiness_to_category\u001b[0m \u001b[0;34m=\u001b[0m \u001b[0mdict\u001b[0m\u001b[0;34m(\u001b[0m\u001b[0mbusiness_to_category\u001b[0m\u001b[0;34m)\u001b[0m\u001b[0;34m\u001b[0m\u001b[0m\n\u001b[0m\u001b[1;32m      3\u001b[0m \u001b[0mbusiness_to_category\u001b[0m\u001b[0;34m\u001b[0m\u001b[0m\n\u001b[1;32m      4\u001b[0m \u001b[0;34m\u001b[0m\u001b[0m\n\u001b[1;32m      5\u001b[0m \u001b[0mpickle\u001b[0m\u001b[0;34m.\u001b[0m\u001b[0mdump\u001b[0m\u001b[0;34m(\u001b[0m\u001b[0mbusiness_to_category\u001b[0m\u001b[0;34m,\u001b[0m \u001b[0mopen\u001b[0m\u001b[0;34m(\u001b[0m\u001b[0;34m\"business_to_category.pkl\"\u001b[0m\u001b[0;34m,\u001b[0m\u001b[0;34m\"wb\"\u001b[0m\u001b[0;34m)\u001b[0m\u001b[0;34m)\u001b[0m\u001b[0;34m\u001b[0m\u001b[0m\n",
      "\u001b[0;31mNameError\u001b[0m: name 'business_to_category' is not defined"
     ],
     "output_type": "error"
    }
   ],
   "source": [
    "\n",
    "business_to_category = dict(business_to_category)\n",
    "business_to_category\n",
    "\n",
    "pickle.dump(business_to_category, open(\"business_to_category.pkl\",\"wb\"))\n"
   ]
  },
  {
   "cell_type": "code",
   "execution_count": 3,
   "metadata": {},
   "outputs": [
    {
     "data": {
      "text/plain": [
       "(28865, 5)"
      ]
     },
     "execution_count": 3,
     "metadata": {},
     "output_type": "execute_result"
    }
   ],
   "source": [
    "business_table = pandas.read_json(business_file, orient='columns', lines=True)\n",
    "las_vegas_hotels = business_table.loc[business_table['city']=='Las Vegas',['business_id','review_count','stars','name','categories']]\n",
    "las_vegas_hotels.shape"
   ]
  },
  {
   "cell_type": "code",
   "execution_count": 5,
   "metadata": {
    "collapsed": true
   },
   "outputs": [
    {
     "name": "stdout",
     "output_type": "stream",
     "text": [
      "24469 28865\n"
     ]
    }
   ],
   "source": [
    "\n",
    "las_vegas_hotels.head(5)"
   ]
  },
  {
   "cell_type": "code",
   "execution_count": 34,
   "metadata": {
    "collapsed": true
   },
   "outputs": [
    {
     "name": "stdout",
     "output_type": "stream",
     "text": [
      "24469 28865\n"
     ]
    }
   ],
   "source": [
    "choosen_category = open(\"manually_choosen_categories.txt\",\"r\")\n",
    "choosen_category = list(choosen_category)\n",
    "choosen_category = [cat.strip().split(\"=\")[0] for cat in choosen_category]\n",
    "choosen_category = [cat.lower() for cat in choosen_category]\n",
    "choosen_category = set(choosen_category)\n",
    "print(\"italian\" in choosen_category)"
   ]
  },
  {
   "cell_type": "code",
   "execution_count": 26,
   "metadata": {
    "collapsed": true
   },
   "outputs": [
    {
     "name": "stdout",
     "output_type": "stream",
     "text": [
      "24469 28865\n"
     ]
    }
   ],
   "source": [
    "\n",
    "categories = las_vegas_hotels['categories']\n",
    "categories = list(categories)\n",
    "#for cat in categories:\n",
    "#    print(cat.strip().split(\",\"))\n",
    "#    break\n",
    "categories = [cat.strip() for cat in categories]"
   ]
  },
  {
   "cell_type": "code",
   "execution_count": 38,
   "metadata": {
    "collapsed": true
   },
   "outputs": [
    {
     "name": "stdout",
     "output_type": "stream",
     "text": [
      "24469 28865\n"
     ]
    }
   ],
   "source": [
    "import pickle\n",
    "\n",
    "la_business = {}\n",
    "business_to_cat = {}\n",
    "\n",
    "business_id = las_vegas_hotels['business_id']\n",
    "stars = las_vegas_hotels['stars']\n",
    "review_count = las_vegas_hotels['review_count']\n",
    "categories = las_vegas_hotels['categories']\n",
    "\n",
    "if len(business_id) != len(stars):\n",
    "    assert Exception(\"wierd!!\")\n",
    "\n",
    "business_id = list(business_id)\n",
    "stars = list(stars)\n",
    "average_stars = sum(stars) / float(len(stars))\n",
    "review_count = list(review_count)\n",
    "categories = list(categories)\n",
    "average_review_count = sum(review_count)/ float(len(review_count))\n",
    "generic_count = 0\n",
    "total_business_count = 0\n",
    "\n",
    "for index in range(len(business_id)):\n",
    "    total_business_count += 1\n",
    "    if business_id[index] in la_business:\n",
    "        assert Exception(\"wow!!\")\n",
    "    else:\n",
    "        la_business[business_id[index]] = {\"stars\":float(stars[index]), \"review_count\":\n",
    "                                           float(review_count[index])}\n",
    "    if categories[index]:\n",
    "        business_to_cat[business_id[index]] = set([cat.lower() \n",
    "            for cat in categories[index].strip().split(\",\") if cat.lower() in choosen_category])\n",
    "        if len(business_to_cat[business_id[index]]) == 0:\n",
    "            generic_count += 1\n",
    "            business_to_cat[business_id[index]] = set([\"generic\"])\n",
    "    else:\n",
    "        generic_count += 1\n",
    "        business_to_cat[business_id[index]] = set([\"generic\"])\n",
    "        \n",
    "la_business = {\n",
    "    \"average_review_count\": average_review_count,\n",
    "    \"average_stars\": average_stars,\n",
    "    \"business_details\":la_business,\n",
    "    \"business_to_category_mapping\": business_to_cat\n",
    "}\n",
    "\n",
    "\n",
    "pickle.dump(la_business, open(\"util_data/las_vegas_business_ids.pkl\",\"wb\"))\n",
    "print(generic_count, total_business_count)\n"
   ]
  },
  {
   "cell_type": "code",
   "execution_count": 5,
   "metadata": {},
   "outputs": [],
   "source": [
    "las_vegas_hotels = business_table.loc[business_table['city']=='Las Vegas',['business_id','name','categories']]\n",
    "las_vegas_hotels = las_vegas_hotels.loc[las_vegas_hotels['categories'].str.contains('Restaurant|Food|Bar|Pub')==True,['name','categories']]\n",
    "categories = las_vegas_hotels['categories']\n",
    "\n",
    "categories_set = {}\n",
    "\n",
    "for each_category in categories:\n",
    "    for type_val in each_category.split(\",\"):\n",
    "        if type_val != 'Restaurants' and type_val != 'Food':\n",
    "            type_val = type_val.strip().lower()\n",
    "            if type_val in categories_set:\n",
    "                categories_set[type_val] += 1\n",
    "            else:\n",
    "                categories_set[type_val] = 1\n",
    "\n",
    "len(categories_set)\n",
    "categories_set = dict([(k,v) for k,v in categories_set.items() if v > 2])\n",
    "len(categories_set)\n",
    "categories_set\n",
    "\n",
    "with open(\"cusine_categories.txt\",\"w+\") as output_file:\n",
    "    for k,v in categories_set.items():\n",
    "        output_file.write(str(k) + \",\" + str(v) + \"\\n\")\n",
    "\n",
    "\n",
    "    \n",
    "    \n"
   ]
  },
  {
   "cell_type": "code",
   "execution_count": 6,
   "metadata": {},
   "outputs": [
    {
     "data": {
      "image/png": "[encoded data removed]",
      "text/plain": [
       "<Figure size 432x288 with 1 Axes>"
      ]
     },
     "metadata": {},
     "output_type": "display_data"
    }
   ],
   "source": [
    "import numpy as np\n",
    "import matplotlib.pyplot as plt\n",
    "\n",
    "pos = np.arange(len(list(categories_set.keys())))\n",
    "width = 1.0     \n",
    "\n",
    "ax = plt.axes()\n",
    "ax.set_xticks(pos + (width / 2))\n",
    "ax.set_xticklabels(categories_set.keys())\n",
    "\n",
    "plt.bar(list(categories_set.keys()), list(categories_set.values()), width, color='g')\n",
    "#                           \n",
    "plt.show()"
   ]
  },
  {
   "cell_type": "code",
   "execution_count": 10,
   "metadata": {},
   "outputs": [
    {
     "name": "stdout",
     "output_type": "stream",
     "text": [
      "[('restaurants', 4310), ('food', 2287), ('nightlife', 1529), ('bars', 1452), ('fast food', 940), ('american (traditional)', 829), ('mexican', 788), ('coffee & tea', 712), ('sandwiches', 695), ('pizza', 655), ('american (new)', 603), ('burgers', 585), ('breakfast & brunch', 495), ('chinese', 453), ('specialty food', 444), ('desserts', 432), ('shopping', 419), ('italian', 411), ('japanese', 361), ('seafood', 360), ('beauty & spas', 341), ('event planning & services', 339), ('convenience stores', 338), ('grocery', 338), ('bakeries', 331)]\n105\n"
     ]
    }
   ],
   "source": [
    "temp = [(a,b) for a,b in categories_set.items() if b >= 50]\n",
    "temp = sorted(temp, key=lambda x:x[1], reverse=True)\n",
    "print(temp[:25])\n",
    "print(len(temp))"
   ]
  },
  {
   "cell_type": "code",
   "execution_count": null,
   "metadata": {},
   "outputs": [],
   "source": []
  }
 ],
 "metadata": {
  "kernelspec": {
   "display_name": "Python 3",
   "language": "python",
   "name": "python3"
  },
  "language_info": {
   "codemirror_mode": {
    "name": "ipython",
    "version": 3
   },
   "file_extension": ".py",
   "mimetype": "text/x-python",
   "name": "python",
   "nbconvert_exporter": "python",
   "pygments_lexer": "ipython3",
   "version": "3.6.5"
  }
 },
 "nbformat": 4,
 "nbformat_minor": 1
}
